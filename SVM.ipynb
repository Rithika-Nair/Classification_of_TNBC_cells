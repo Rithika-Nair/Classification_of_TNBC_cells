{
 "cells": [
  {
   "cell_type": "code",
   "execution_count": 1,
   "id": "4a195fda",
   "metadata": {},
   "outputs": [],
   "source": [
    "import pandas as pd\n",
    "import numpy as np\n",
    "import matplotlib.pyplot as plt\n",
    "%matplotlib inline"
   ]
  },
  {
   "cell_type": "code",
   "execution_count": 4,
   "id": "0dec4378",
   "metadata": {},
   "outputs": [
    {
     "ename": "NameError",
     "evalue": "name 'n_rows' is not defined",
     "output_type": "error",
     "traceback": [
      "\u001b[0;31m---------------------------------------------------------------------------\u001b[0m",
      "\u001b[0;31mNameError\u001b[0m                                 Traceback (most recent call last)",
      "\u001b[0;32m/var/folders/p5/hwwszq5n2kv_18jljl_3nq1h0000gn/T/ipykernel_42124/253327196.py\u001b[0m in \u001b[0;36m<module>\u001b[0;34m\u001b[0m\n\u001b[1;32m      1\u001b[0m \u001b[0mdf\u001b[0m \u001b[0;34m=\u001b[0m \u001b[0mpd\u001b[0m\u001b[0;34m.\u001b[0m\u001b[0mread_csv\u001b[0m\u001b[0;34m(\u001b[0m\u001b[0;34m'new_input.csv'\u001b[0m\u001b[0;34m)\u001b[0m\u001b[0;34m\u001b[0m\u001b[0;34m\u001b[0m\u001b[0m\n\u001b[1;32m      2\u001b[0m \u001b[0mdf\u001b[0m\u001b[0;34m\u001b[0m\u001b[0;34m\u001b[0m\u001b[0m\n\u001b[0;32m----> 3\u001b[0;31m \u001b[0mn_rows\u001b[0m\u001b[0;34m(\u001b[0m\u001b[0mdf\u001b[0m\u001b[0;34m)\u001b[0m\u001b[0;34m\u001b[0m\u001b[0;34m\u001b[0m\u001b[0m\n\u001b[0m",
      "\u001b[0;31mNameError\u001b[0m: name 'n_rows' is not defined"
     ]
    }
   ],
   "source": [
    "df = pd.read_csv('new_input.csv')\n",
    "df\n",
    "(df)"
   ]
  },
  {
   "cell_type": "code",
   "execution_count": 3,
   "id": "079d44be",
   "metadata": {},
   "outputs": [
    {
     "name": "stdout",
     "output_type": "stream",
     "text": [
      "False\n"
     ]
    }
   ],
   "source": [
    "df = df.fillna(value=0)\n",
    "df\n",
    "print(df.isnull().values.any())"
   ]
  },
  {
   "cell_type": "code",
   "execution_count": 4,
   "id": "62ec2a15",
   "metadata": {},
   "outputs": [],
   "source": [
    "X = X = df.drop('type', axis=1)\n",
    "X = X.drop('geo_ID', axis=1)\n",
    "y = df['type']\n",
    "\n",
    "from sklearn.model_selection import train_test_split\n",
    "X_train, X_test, y_train, y_test = train_test_split(X, y, test_size = 0.20)"
   ]
  },
  {
   "cell_type": "code",
   "execution_count": 5,
   "id": "137163ca",
   "metadata": {},
   "outputs": [
    {
     "data": {
      "text/plain": [
       "SVC(kernel='linear')"
      ]
     },
     "execution_count": 5,
     "metadata": {},
     "output_type": "execute_result"
    }
   ],
   "source": [
    "from sklearn.svm import SVC\n",
    "svclassifier = SVC(kernel='linear')\n",
    "svclassifier.fit(X_train, y_train)"
   ]
  },
  {
   "cell_type": "code",
   "execution_count": 6,
   "id": "bf03f5b9",
   "metadata": {},
   "outputs": [],
   "source": [
    "y_pred = svclassifier.predict(X_test)"
   ]
  },
  {
   "cell_type": "code",
   "execution_count": 7,
   "id": "8576b226",
   "metadata": {},
   "outputs": [
    {
     "data": {
      "text/plain": [
       "array(['non-TNBC', 'TNBC', 'TNBC', 'TNBC', 'TNBC', 'TNBC', 'non-TNBC',\n",
       "       'non-TNBC', 'non-TNBC', 'TNBC', 'non-TNBC', 'non-TNBC', 'TNBC',\n",
       "       'TNBC', 'TNBC', 'TNBC', 'TNBC', 'TNBC', 'non-TNBC', 'non-TNBC',\n",
       "       'non-TNBC', 'TNBC', 'non-TNBC', 'non-TNBC', 'non-TNBC', 'TNBC',\n",
       "       'non-TNBC', 'non-TNBC', 'non-TNBC', 'non-TNBC', 'non-TNBC',\n",
       "       'non-TNBC', 'TNBC', 'TNBC', 'TNBC', 'TNBC', 'TNBC', 'non-TNBC',\n",
       "       'TNBC', 'TNBC', 'non-TNBC', 'non-TNBC', 'non-TNBC', 'TNBC',\n",
       "       'non-TNBC', 'non-TNBC', 'non-TNBC', 'TNBC', 'non-TNBC', 'non-TNBC',\n",
       "       'non-TNBC', 'non-TNBC', 'non-TNBC', 'TNBC', 'non-TNBC', 'non-TNBC',\n",
       "       'TNBC', 'non-TNBC', 'TNBC', 'TNBC', 'TNBC', 'non-TNBC', 'TNBC',\n",
       "       'non-TNBC', 'TNBC', 'non-TNBC', 'non-TNBC', 'TNBC', 'TNBC',\n",
       "       'non-TNBC', 'non-TNBC', 'non-TNBC', 'TNBC', 'non-TNBC', 'non-TNBC',\n",
       "       'non-TNBC', 'non-TNBC', 'non-TNBC', 'TNBC', 'TNBC', 'non-TNBC',\n",
       "       'non-TNBC', 'TNBC', 'non-TNBC', 'TNBC', 'TNBC', 'non-TNBC',\n",
       "       'non-TNBC', 'TNBC', 'TNBC', 'non-TNBC', 'non-TNBC', 'TNBC', 'TNBC',\n",
       "       'non-TNBC', 'non-TNBC', 'non-TNBC', 'non-TNBC', 'non-TNBC',\n",
       "       'non-TNBC', 'TNBC', 'non-TNBC', 'non-TNBC', 'non-TNBC', 'non-TNBC',\n",
       "       'TNBC', 'TNBC', 'non-TNBC', 'TNBC', 'non-TNBC', 'TNBC', 'non-TNBC',\n",
       "       'non-TNBC', 'TNBC', 'non-TNBC', 'non-TNBC', 'TNBC', 'TNBC', 'TNBC',\n",
       "       'non-TNBC', 'non-TNBC', 'non-TNBC', 'non-TNBC', 'non-TNBC',\n",
       "       'non-TNBC', 'TNBC', 'non-TNBC', 'non-TNBC', 'TNBC', 'non-TNBC',\n",
       "       'TNBC', 'non-TNBC', 'non-TNBC', 'non-TNBC', 'TNBC', 'non-TNBC',\n",
       "       'TNBC', 'TNBC', 'non-TNBC', 'TNBC', 'TNBC', 'TNBC', 'TNBC',\n",
       "       'non-TNBC', 'non-TNBC', 'non-TNBC', 'non-TNBC', 'TNBC', 'TNBC',\n",
       "       'TNBC', 'TNBC', 'non-TNBC', 'TNBC', 'TNBC', 'non-TNBC', 'non-TNBC',\n",
       "       'non-TNBC', 'non-TNBC', 'non-TNBC', 'TNBC', 'TNBC', 'non-TNBC',\n",
       "       'non-TNBC', 'TNBC', 'non-TNBC', 'non-TNBC', 'TNBC', 'non-TNBC',\n",
       "       'TNBC', 'TNBC', 'TNBC', 'non-TNBC', 'TNBC', 'non-TNBC', 'TNBC',\n",
       "       'TNBC', 'TNBC', 'non-TNBC', 'TNBC', 'non-TNBC', 'TNBC', 'non-TNBC',\n",
       "       'non-TNBC', 'non-TNBC', 'non-TNBC', 'non-TNBC', 'non-TNBC',\n",
       "       'non-TNBC', 'non-TNBC', 'non-TNBC', 'TNBC', 'non-TNBC', 'TNBC'],\n",
       "      dtype=object)"
      ]
     },
     "execution_count": 7,
     "metadata": {},
     "output_type": "execute_result"
    }
   ],
   "source": [
    "y_pred"
   ]
  },
  {
   "cell_type": "code",
   "execution_count": 8,
   "id": "63fe7a16",
   "metadata": {
    "scrolled": true
   },
   "outputs": [
    {
     "name": "stdout",
     "output_type": "stream",
     "text": [
      "[[ 72   8]\n",
      " [ 10 103]]\n",
      "              precision    recall  f1-score   support\n",
      "\n",
      "        TNBC       0.88      0.90      0.89        80\n",
      "    non-TNBC       0.93      0.91      0.92       113\n",
      "\n",
      "    accuracy                           0.91       193\n",
      "   macro avg       0.90      0.91      0.90       193\n",
      "weighted avg       0.91      0.91      0.91       193\n",
      "\n"
     ]
    }
   ],
   "source": [
    "from sklearn.metrics import classification_report, confusion_matrix\n",
    "print(confusion_matrix(y_test,y_pred))\n",
    "print(classification_report(y_test,y_pred))"
   ]
  }
 ],
 "metadata": {
  "kernelspec": {
   "display_name": "Python 3 (ipykernel)",
   "language": "python",
   "name": "python3"
  },
  "language_info": {
   "codemirror_mode": {
    "name": "ipython",
    "version": 3
   },
   "file_extension": ".py",
   "mimetype": "text/x-python",
   "name": "python",
   "nbconvert_exporter": "python",
   "pygments_lexer": "ipython3",
   "version": "3.9.7"
  }
 },
 "nbformat": 4,
 "nbformat_minor": 5
}
