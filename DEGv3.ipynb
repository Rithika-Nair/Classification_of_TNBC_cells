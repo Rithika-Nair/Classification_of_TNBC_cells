{
 "cells": [
  {
   "cell_type": "code",
   "execution_count": null,
   "id": "a87d00e2",
   "metadata": {
    "vscode": {
     "languageId": "r"
    }
   },
   "outputs": [],
   "source": [
    "install.packages(\"BiocManager\")\n",
    "install.packages(\"forcats\")\n",
    "install.packages(\"stringr\")\n",
    "install.packages(\"ggplot2\")\n",
    "install.packages(\"ggrepel\")\n",
    "install.packages(\"readr\")\n",
    "install.packages(\"tidyr\")\n",
    "install.packages(\"survminer\")\n",
    "BiocManager::install(\"GEOquery\")\n",
    "BiocManager::install(\"limma\")\n",
    "BiocManager::install(\"pheatmap\")\n",
    "BiocManager::install(\"org.Hs.eg.db\")"
   ]
  },
  {
   "cell_type": "code",
   "execution_count": null,
   "id": "00552154",
   "metadata": {
    "vscode": {
     "languageId": "r"
    }
   },
   "outputs": [],
   "source": [
    "library(GEOquery)\n",
    "id1 <- \"GSE65194\"\n",
    "id2 <- \"GSE43358\"\n",
    "id3 <- \"GSE76275\"\n",
    "id4 <- \"GSE45827\"\n",
    "id5 <- \"GSE7904\"\n",
    "id6 <- \"GSE95700\"\n",
    "id7 <- \"GSE58812\"\n",
    "id8 <- \"GSE48390\""
   ]
  },
  {
   "cell_type": "code",
   "execution_count": null,
   "id": "c6312459",
   "metadata": {
    "vscode": {
     "languageId": "r"
    }
   },
   "outputs": [],
   "source": [
    "gse1 <- getGEO(id1)"
   ]
  },
  {
   "cell_type": "code",
   "execution_count": null,
   "id": "ddfaac99",
   "metadata": {
    "vscode": {
     "languageId": "r"
    }
   },
   "outputs": [],
   "source": [
    "gse2 <- getGEO(id2)"
   ]
  },
  {
   "cell_type": "code",
   "execution_count": null,
   "id": "0e52a945",
   "metadata": {
    "vscode": {
     "languageId": "r"
    }
   },
   "outputs": [],
   "source": [
    "gse3 <- getGEO(id3)"
   ]
  },
  {
   "cell_type": "code",
   "execution_count": null,
   "id": "5fed4fee",
   "metadata": {
    "vscode": {
     "languageId": "r"
    }
   },
   "outputs": [],
   "source": [
    "gse4 <- getGEO(id4)"
   ]
  },
  {
   "cell_type": "code",
   "execution_count": null,
   "id": "0bd3ed0d",
   "metadata": {
    "vscode": {
     "languageId": "r"
    }
   },
   "outputs": [],
   "source": [
    "gse5 <- getGEO(id5)"
   ]
  },
  {
   "cell_type": "code",
   "execution_count": null,
   "id": "e9333641",
   "metadata": {
    "vscode": {
     "languageId": "r"
    }
   },
   "outputs": [],
   "source": [
    "gse6 <- getGEO(id6)"
   ]
  },
  {
   "cell_type": "code",
   "execution_count": null,
   "id": "16c6f5b6",
   "metadata": {
    "vscode": {
     "languageId": "r"
    }
   },
   "outputs": [],
   "source": [
    "gse7 <- getGEO(id7)"
   ]
  },
  {
   "cell_type": "code",
   "execution_count": null,
   "id": "75869323",
   "metadata": {
    "vscode": {
     "languageId": "r"
    }
   },
   "outputs": [],
   "source": [
    "gse8 <- getGEO(id8)"
   ]
  },
  {
   "cell_type": "code",
   "execution_count": null,
   "id": "a94916d4",
   "metadata": {
    "vscode": {
     "languageId": "r"
    }
   },
   "outputs": [],
   "source": [
    "gse <- rbind(gse1, gse2, gse3, gse4, gse5, gse6, gse7, gse8)\n",
    "dim(gse)"
   ]
  },
  {
   "cell_type": "code",
   "execution_count": null,
   "id": "4464d983",
   "metadata": {
    "vscode": {
     "languageId": "r"
    }
   },
   "outputs": [],
   "source": [
    "gse_0 <- gse[[1]]\n",
    "gse_2 <- gse[[2]]\n",
    "gse_3 <- gse[[3]]\n",
    "gse_4 <- gse[[4]]\n",
    "gse_5 <- gse[[5]]\n",
    "gse_6 <- gse[[6]]\n",
    "gse_7 <- gse[[7]]\n",
    "gse_8 <- gse[[8]]\n",
    "dim(gse_8)"
   ]
  },
  {
   "cell_type": "code",
   "execution_count": null,
   "id": "ed42a3d0",
   "metadata": {
    "vscode": {
     "languageId": "r"
    }
   },
   "outputs": [],
   "source": [
    "pData(gse_8)"
   ]
  },
  {
   "cell_type": "code",
   "execution_count": 14,
   "id": "c467d123",
   "metadata": {
    "vscode": {
     "languageId": "r"
    }
   },
   "outputs": [],
   "source": [
    "gse_1 <- combine(gse_0, gse_2, gse_3, gse_4, gse_5, gse_6, gse_7, gse_8)\n",
    "gse_1 <- na.omit(gse_1)"
   ]
  },
  {
   "cell_type": "code",
   "execution_count": null,
   "id": "bf55a2fc",
   "metadata": {
    "vscode": {
     "languageId": "r"
    }
   },
   "outputs": [],
   "source": [
    "dim(gse_1)"
   ]
  },
  {
   "cell_type": "code",
   "execution_count": 16,
   "id": "f2d6ca9a",
   "metadata": {
    "vscode": {
     "languageId": "r"
    }
   },
   "outputs": [],
   "source": [
    "options(repr.matrix.max.cols=150, repr.matrix.max.rows=1000)"
   ]
  },
  {
   "cell_type": "code",
   "execution_count": null,
   "id": "2aae6048",
   "metadata": {
    "scrolled": true,
    "vscode": {
     "languageId": "r"
    }
   },
   "outputs": [],
   "source": [
    "exprsData <- exprs(gse_1)\n",
    "exprsData <- na.omit(exprsData)\n",
    "exprsData\n",
    "dim(exprsData)"
   ]
  },
  {
   "cell_type": "code",
   "execution_count": null,
   "id": "cbeaa204",
   "metadata": {
    "vscode": {
     "languageId": "r"
    }
   },
   "outputs": [],
   "source": [
    "library(dplyr)"
   ]
  },
  {
   "cell_type": "code",
   "execution_count": null,
   "id": "8da3c1b2",
   "metadata": {
    "vscode": {
     "languageId": "r"
    }
   },
   "outputs": [],
   "source": [
    "sampleInfo <- pData(gse_0)\n",
    "sampleInfo <- transform(sampleInfo,bc_type=ifelse(characteristics_ch1==\"sample_group: TNBC\",\"TNBC\",\"non-TNBC\"))\n",
    "#sampleInfo <- transform(sampleInfo,non_TNBC=ifelse(characteristics_ch1==\"sample_group: TNBC\",0,1))\n",
    "sampleInfo <- select(sampleInfo, geo_accession, bc_type)\n",
    "\n",
    "sample2 <- pData(gse_2)\n",
    "sample2 <- transform(sample2,bc_type=ifelse((characteristics_ch1==\"er: 0\")&\n",
    "                                        (characteristics_ch1.1==\"pgr: 0\")&\n",
    "                                        (characteristics_ch1.2==\"her2: 0\"),\"TNBC\",\"non-TNBC\"))\n",
    "# sample2 <- transform(sample2,non_TNBC=ifelse((characteristics_ch1==\"er: 0\")&\n",
    "#                                         (characteristics_ch1.1==\"pgr: 0\")&\n",
    "#                                         (characteristics_ch1.2==\"her2: 0\"),0,1))\n",
    "sample2 <- select(sample2, geo_accession, bc_type)\n",
    "\n",
    "sample3 <- pData(gse_3)\n",
    "sample3 <- cbind(sample3, bc_type = ifelse(grepl(\" not TN\",sample3$'set:ch1'),\"non-TNBC\",\"TNBC\"))\n",
    "# sample3 <- cbind(sample3, non_TNBC = 0)\n",
    "sample3 <- select(sample3, geo_accession, bc_type)\n",
    "\n",
    "sample4 <- pData(gse_4)\n",
    "sample4 <- cbind(sample4, bc_type = \"non-TNBC\")\n",
    "sample4 <- select(sample4, geo_accession, bc_type)\n",
    "\n",
    "sample5 <- pData(gse_5)\n",
    "sample5 <- cbind(sample5, bc_type = \"non-TNBC\")\n",
    "sample5 <- select(sample5, geo_accession, bc_type)\n",
    "\n",
    "sample6 <- pData(gse_6)\n",
    "sample6 <- cbind(sample6, bc_type = \"TNBC\")\n",
    "sample6 <- select(sample6, geo_accession, bc_type)\n",
    "\n",
    "sample7 <- pData(gse_7)\n",
    "sample7 <- cbind(sample7, bc_type = \"TNBC\")\n",
    "sample7 <- select(sample7, geo_accession, bc_type)\n",
    "\n",
    "sample8 <- pData(gse_8)\n",
    "sample8 <- cbind(sample8, bc_type = \"non-TNBC\")\n",
    "sample8 <- select(sample8, geo_accession, bc_type)\n",
    "\n",
    "sampleInfo <- rbind(sampleInfo, sample2, sample3, sample4, sample5, sample6, sample7, sample8)\n",
    "#sampleInfo <- select(sampleInfo, geo_accession, TNBC)\n",
    "show(sampleInfo)"
   ]
  },
  {
   "cell_type": "code",
   "execution_count": null,
   "id": "689a7c65",
   "metadata": {
    "vscode": {
     "languageId": "r"
    }
   },
   "outputs": [],
   "source": [
    "summary(exprsData)"
   ]
  },
  {
   "cell_type": "code",
   "execution_count": 21,
   "id": "613c0fa4",
   "metadata": {
    "vscode": {
     "languageId": "r"
    }
   },
   "outputs": [],
   "source": [
    "#exprs(gse_1) <- log2(exprs(gse_1))\n",
    "#boxplot(exprs(gse_1),outline=FALSE)"
   ]
  },
  {
   "cell_type": "code",
   "execution_count": null,
   "id": "60f205ee",
   "metadata": {
    "vscode": {
     "languageId": "r"
    }
   },
   "outputs": [],
   "source": [
    "library(limma)\n",
    "design <- model.matrix(~0+sampleInfo$bc_type)\n",
    "colnames(design) <- c(\"non_TNBC\", \"TNBC\")\n",
    "design\n",
    "dim(design)"
   ]
  },
  {
   "cell_type": "code",
   "execution_count": null,
   "id": "b696b7e9",
   "metadata": {
    "vscode": {
     "languageId": "r"
    }
   },
   "outputs": [],
   "source": [
    "summary(exprsData)\n",
    "\n",
    "## calculate median expression level\n",
    "cutoff <- median(exprsData)\n",
    "\n",
    "## TRUE or FALSE for whether each gene is \"expressed\" in each sample\n",
    "is_expressed <- exprsData > cutoff\n",
    "\n",
    "## Identify genes expressed in more than 2 samples\n",
    "\n",
    "keep <- rowSums(is_expressed) > 2\n",
    "\n",
    "## check how many genes are removed / retained.\n",
    "table(keep)\n",
    "\n",
    "## subset to just those expressed genes\n",
    "gse_1 <- gse_1[keep,]\n",
    "gse_1\n",
    "dim(gse_1)"
   ]
  },
  {
   "cell_type": "code",
   "execution_count": null,
   "id": "4c27c026",
   "metadata": {
    "vscode": {
     "languageId": "r"
    }
   },
   "outputs": [],
   "source": [
    "fit <- lmFit(exprsData, design)\n",
    "fit$coefficients"
   ]
  },
  {
   "cell_type": "code",
   "execution_count": null,
   "id": "6ed31c12",
   "metadata": {
    "vscode": {
     "languageId": "r"
    }
   },
   "outputs": [],
   "source": [
    "contrast1 <- makeContrasts(TNBC - non_TNBC, levels=design)\n",
    "                           \n",
    "## define multiple contrasts\n",
    "## e.g. makeContrasts(Group1 - Group2, Group2 - Group3,....levels=design)\n",
    "## Healthy - TNBC, Her2 - TNBC, LuminalA - TNBC, LuminalB - TNBC,\n",
    "fit1 <- contrasts.fit(fit, contrast1)\n",
    "fit1 <- eBayes(fit1)\n",
    "topTable(fit1)\n",
    "table(decideTests(fit1))\n",
    "\n",
    "results <- topTable(fit1, number=Inf)\n",
    "results <- tibble::rownames_to_column(results,\"ID\")"
   ]
  },
  {
   "cell_type": "code",
   "execution_count": 26,
   "id": "42c929f8",
   "metadata": {
    "vscode": {
     "languageId": "r"
    }
   },
   "outputs": [],
   "source": [
    "# contrast2 <- makeContrasts(Healthy - TNBC, levels=design)\n",
    "\n",
    "# fit2 <- contrasts.fit(fit, contrast1)\n",
    "# fit2 <- eBayes(fit2)\n",
    "# topTable(fit2)\n",
    "# #decideTests(fit2)\n",
    "# table(decideTests(fit2))\n",
    "\n",
    "# part_results_2 <- topTable(fit2, number=Inf)\n",
    "# part_results_2 <- tibble::rownames_to_column(part_results_2,\"ID\")"
   ]
  },
  {
   "cell_type": "code",
   "execution_count": 27,
   "id": "9cee83ac",
   "metadata": {
    "vscode": {
     "languageId": "r"
    }
   },
   "outputs": [],
   "source": [
    "# library(ggplot2)\n",
    "# ggplot(full_results,aes(x = logFC, y=B)) + geom_point()"
   ]
  },
  {
   "cell_type": "code",
   "execution_count": null,
   "id": "9704802e",
   "metadata": {
    "vscode": {
     "languageId": "r"
    }
   },
   "outputs": [],
   "source": [
    "p_cutoff <- 0.05\n",
    "fc_cutoff <- 1\n",
    "\n",
    "final <- filter(results, adj.P.Val < 0.05, abs(logFC) > 1)\n",
    "#final\n",
    "library(readr)\n",
    "write_csv(final, path=\"final_results.csv\")\n",
    "dim(final)"
   ]
  },
  {
   "cell_type": "code",
   "execution_count": 29,
   "id": "89120717",
   "metadata": {
    "vscode": {
     "languageId": "r"
    }
   },
   "outputs": [],
   "source": [
    "# library(readr)\n",
    "# filter(results, adj.P.Val < 0.05, abs(logFC) > 1) %>%\n",
    "#   write_csv(path=\"filtered_de_results.csv\")"
   ]
  },
  {
   "cell_type": "code",
   "execution_count": 30,
   "id": "320400c0",
   "metadata": {
    "vscode": {
     "languageId": "r"
    }
   },
   "outputs": [],
   "source": [
    "options(repr.matrix.max.cols=200, repr.matrix.max.rows=40000)\n",
    "# DT2 <- df(filter(exprs(gse_1), ID %in% results$ID))\n",
    "\n",
    "DT1 <- exprsData\n",
    "\n",
    "#head(DT1)\n",
    "\n",
    "\n",
    "d <- DT1\n",
    "ID <- rownames(d)\n",
    "rownames(d) <- NULL\n",
    "data <- cbind(ID,d)\n",
    "#data\n",
    "\n",
    "# DT2 <- subset(data, ID %in% results$ID)\n",
    "# DT2"
   ]
  },
  {
   "cell_type": "code",
   "execution_count": null,
   "id": "0527e480",
   "metadata": {
    "vscode": {
     "languageId": "r"
    }
   },
   "outputs": [],
   "source": [
    "DT2 <- subset(data, ID %in% final$ID)\n",
    "#write_csv(DT2, path=\"model_input.csv\")\n",
    "dim(DT2)\n",
    "head(DT2)\n",
    "class(DT2)"
   ]
  },
  {
   "cell_type": "code",
   "execution_count": null,
   "id": "e9439987",
   "metadata": {
    "vscode": {
     "languageId": "r"
    }
   },
   "outputs": [],
   "source": [
    "df <- as.data.frame(DT2)\n",
    "df2 <- data.frame(t(df[-1]))\n",
    "colnames(df2) <- df[, 1]\n",
    "# head(df2)\n",
    "# dim(df2)\n",
    "\n",
    "df3 <- cbind(df2, type = sampleInfo$bc_type)\n",
    "\n",
    "d1 <- df3\n",
    "geo_ID <- rownames(d1)\n",
    "rownames(d1) <- NULL\n",
    "df3 <- cbind(geo_ID,d1)\n",
    "head(df3)\n",
    "dim(df3)\n",
    "\n",
    "write_csv(df3, path=\"new_input.csv\")"
   ]
  }
 ],
 "metadata": {
  "kernelspec": {
   "display_name": "R",
   "language": "R",
   "name": "ir"
  },
  "language_info": {
   "codemirror_mode": "r",
   "file_extension": ".r",
   "mimetype": "text/x-r-source",
   "name": "R",
   "pygments_lexer": "r",
   "version": "4.1.2"
  }
 },
 "nbformat": 4,
 "nbformat_minor": 5
}
